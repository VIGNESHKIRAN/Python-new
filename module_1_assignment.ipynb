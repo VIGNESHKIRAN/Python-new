{
  "nbformat": 4,
  "nbformat_minor": 0,
  "metadata": {
    "colab": {
      "name": "module 1 assignment",
      "provenance": [],
      "collapsed_sections": [],
      "authorship_tag": "ABX9TyP8ygRmR2hFtt+X2EeOluc0",
      "include_colab_link": true
    },
    "kernelspec": {
      "name": "python3",
      "display_name": "Python 3"
    },
    "language_info": {
      "name": "python"
    }
  },
  "cells": [
    {
      "cell_type": "markdown",
      "metadata": {
        "id": "view-in-github",
        "colab_type": "text"
      },
      "source": [
        "<a href=\"https://colab.research.google.com/github/VIGNESHKIRAN/Python-new/blob/Module-1/module_1_assignment.ipynb\" target=\"_parent\"><img src=\"https://colab.research.google.com/assets/colab-badge.svg\" alt=\"Open In Colab\"/></a>"
      ]
    },
    {
      "cell_type": "markdown",
      "source": [
        "Accept input from user and store it in variable and print the value."
      ],
      "metadata": {
        "id": "LF4l_BDzeHyn"
      }
    },
    {
      "cell_type": "code",
      "source": [
        " a = int(input())\n",
        " print(a)"
      ],
      "metadata": {
        "id": "Ti0i9DOsebjo"
      },
      "execution_count": null,
      "outputs": []
    },
    {
      "cell_type": "code",
      "source": [
        "Use of print statements and use of (.format )for printing different data types.\n"
      ],
      "metadata": {
        "id": "RNFscJ8QeuD_"
      },
      "execution_count": null,
      "outputs": []
    },
    {
      "cell_type": "code",
      "source": [
        "k = \"Gitam is {trial} one\"\n",
        "B= \"VIT is number one\"\n",
        "print(k.format(trial=\"always\"))\n"
      ],
      "metadata": {
        "colab": {
          "base_uri": "https://localhost:8080/"
        },
        "id": "ZkLufHqiezar",
        "outputId": "ea052fcc-6b6d-4dd5-f508-f5f60556473f"
      },
      "execution_count": null,
      "outputs": [
        {
          "output_type": "stream",
          "name": "stdout",
          "text": [
            "Gitam is always one\n"
          ]
        }
      ]
    },
    {
      "cell_type": "code",
      "source": [
        "a = int(input())\n",
        "c= int(input())\n",
        "b = a*60\n",
        "d=c*1000\n",
        "print(\"the minutes is:\",a)\n",
        "print(\"the number of meters is: \",d)\n",
        "\n"
      ],
      "metadata": {
        "colab": {
          "base_uri": "https://localhost:8080/"
        },
        "id": "nd5M1zWJhcey",
        "outputId": "fc6ef866-3013-44fa-f8c2-96418f85e986"
      },
      "execution_count": null,
      "outputs": [
        {
          "output_type": "stream",
          "name": "stdout",
          "text": [
            "21\n",
            "23\n",
            "the minutes is: 21\n",
            "the number of meters is:  23000\n"
          ]
        }
      ]
    },
    {
      "cell_type": "code",
      "source": [
        "import math\n",
        "print(math.ceil(1.2))\n",
        "print(math.floor(1.2))\n",
        "print(math.fabs(1.2))\n",
        "print(math.fmod(100,101))\n"
      ],
      "metadata": {
        "colab": {
          "base_uri": "https://localhost:8080/"
        },
        "id": "nBh-oJGTiM2X",
        "outputId": "e08b4237-5103-423e-d05b-754ffc3a6bdd"
      },
      "execution_count": null,
      "outputs": [
        {
          "output_type": "stream",
          "name": "stdout",
          "text": [
            "2\n",
            "1\n",
            "1.2\n",
            "100.0\n"
          ]
        }
      ]
    },
    {
      "cell_type": "code",
      "source": [
        "a=int(input())\n",
        "b=int(input())\n",
        "if a+b:\n",
        "  print(\"the sum is: \",c)\n"
      ],
      "metadata": {
        "id": "nhWXINNLisbG"
      },
      "execution_count": null,
      "outputs": []
    },
    {
      "cell_type": "code",
      "source": [
        "x=input(\"enter the student's name\")\n",
        "a=int(input(\"math marks: \"))\n",
        "b=int(input(\"english marks: \"))\n",
        "c=int(input(\"sanskrit marks: \"))\n",
        "d=int(input(\"computer marks: \"))\n",
        "f=int(input(\"social marks: \"))\n",
        "if(a+b+c+d+f)>90:\n",
        "  print(\"grade A\")\n",
        "if(a+b+c+d+f)<90 and(a+b+c+d+f)>80:\n",
        "  print(\"grade B\")\n",
        "if(a+b+c+d+f)<80 and (a+b+c+d+f)>70:\n",
        "  print(\"grade C\")\n",
        "else:\n",
        "  print(\"grade D or even worse\")\n",
        "  "
      ],
      "metadata": {
        "colab": {
          "base_uri": "https://localhost:8080/",
          "height": 305
        },
        "id": "UtNlrHknjj9q",
        "outputId": "d908cb88-2ddc-44ee-88ff-f30befbb0e73"
      },
      "execution_count": null,
      "outputs": [
        {
          "name": "stdout",
          "output_type": "stream",
          "text": [
            "enter the student's namesuraj\n",
            "math marks: 123\n",
            "english marks: 123\n",
            "sanskrit marks: \n"
          ]
        },
        {
          "output_type": "error",
          "ename": "ValueError",
          "evalue": "ignored",
          "traceback": [
            "\u001b[0;31m---------------------------------------------------------------------------\u001b[0m",
            "\u001b[0;31mValueError\u001b[0m                                Traceback (most recent call last)",
            "\u001b[0;32m<ipython-input-13-eb06c96fea9e>\u001b[0m in \u001b[0;36m<module>\u001b[0;34m()\u001b[0m\n\u001b[1;32m      2\u001b[0m \u001b[0ma\u001b[0m\u001b[0;34m=\u001b[0m\u001b[0mint\u001b[0m\u001b[0;34m(\u001b[0m\u001b[0minput\u001b[0m\u001b[0;34m(\u001b[0m\u001b[0;34m\"math marks: \"\u001b[0m\u001b[0;34m)\u001b[0m\u001b[0;34m)\u001b[0m\u001b[0;34m\u001b[0m\u001b[0;34m\u001b[0m\u001b[0m\n\u001b[1;32m      3\u001b[0m \u001b[0mb\u001b[0m\u001b[0;34m=\u001b[0m\u001b[0mint\u001b[0m\u001b[0;34m(\u001b[0m\u001b[0minput\u001b[0m\u001b[0;34m(\u001b[0m\u001b[0;34m\"english marks: \"\u001b[0m\u001b[0;34m)\u001b[0m\u001b[0;34m)\u001b[0m\u001b[0;34m\u001b[0m\u001b[0;34m\u001b[0m\u001b[0m\n\u001b[0;32m----> 4\u001b[0;31m \u001b[0mc\u001b[0m\u001b[0;34m=\u001b[0m\u001b[0mint\u001b[0m\u001b[0;34m(\u001b[0m\u001b[0minput\u001b[0m\u001b[0;34m(\u001b[0m\u001b[0;34m\"sanskrit marks: \"\u001b[0m\u001b[0;34m)\u001b[0m\u001b[0;34m)\u001b[0m\u001b[0;34m\u001b[0m\u001b[0;34m\u001b[0m\u001b[0m\n\u001b[0m\u001b[1;32m      5\u001b[0m \u001b[0md\u001b[0m\u001b[0;34m=\u001b[0m\u001b[0mint\u001b[0m\u001b[0;34m(\u001b[0m\u001b[0minput\u001b[0m\u001b[0;34m(\u001b[0m\u001b[0;34m\"computer marks: \"\u001b[0m\u001b[0;34m)\u001b[0m\u001b[0;34m)\u001b[0m\u001b[0;34m\u001b[0m\u001b[0;34m\u001b[0m\u001b[0m\n\u001b[1;32m      6\u001b[0m \u001b[0mf\u001b[0m\u001b[0;34m=\u001b[0m\u001b[0mint\u001b[0m\u001b[0;34m(\u001b[0m\u001b[0minput\u001b[0m\u001b[0;34m(\u001b[0m\u001b[0;34m\"social marks: \"\u001b[0m\u001b[0;34m)\u001b[0m\u001b[0;34m)\u001b[0m\u001b[0;34m\u001b[0m\u001b[0;34m\u001b[0m\u001b[0m\n",
            "\u001b[0;31mValueError\u001b[0m: invalid literal for int() with base 10: ''"
          ]
        }
      ]
    },
    {
      "cell_type": "markdown",
      "source": [
        "calculator"
      ],
      "metadata": {
        "id": "6pyWyV3ilF1x"
      }
    },
    {
      "cell_type": "code",
      "source": [
        "a=(input(\"enter: \"))\n",
        "b=a.split()\n",
        "if b[1]=='+':\n",
        "  print(int(b[0])+int(b[2]))\n",
        "elif b[1]== \"-\":\n",
        "  print(int(b[0])-int(b[2]))\n",
        "elif b[2]=='*':\n",
        "  print(int(b[0])*int(b[2]))\n",
        "elif b[3]=='/':\n",
        "  print(int(b[0])/int(b[2]))\n",
        "else:\n",
        "  print(\"get lost\")\n",
        "  "
      ],
      "metadata": {
        "colab": {
          "base_uri": "https://localhost:8080/",
          "height": 253
        },
        "id": "Drurf0JClyaR",
        "outputId": "824da176-4adc-44c8-b183-96b693e67474"
      },
      "execution_count": null,
      "outputs": [
        {
          "name": "stdout",
          "output_type": "stream",
          "text": [
            "enter: +\n"
          ]
        },
        {
          "output_type": "error",
          "ename": "IndexError",
          "evalue": "ignored",
          "traceback": [
            "\u001b[0;31m---------------------------------------------------------------------------\u001b[0m",
            "\u001b[0;31mIndexError\u001b[0m                                Traceback (most recent call last)",
            "\u001b[0;32m<ipython-input-15-0b81c47fbf84>\u001b[0m in \u001b[0;36m<module>\u001b[0;34m()\u001b[0m\n\u001b[1;32m      1\u001b[0m \u001b[0ma\u001b[0m\u001b[0;34m=\u001b[0m\u001b[0;34m(\u001b[0m\u001b[0minput\u001b[0m\u001b[0;34m(\u001b[0m\u001b[0;34m\"enter: \"\u001b[0m\u001b[0;34m)\u001b[0m\u001b[0;34m)\u001b[0m\u001b[0;34m\u001b[0m\u001b[0;34m\u001b[0m\u001b[0m\n\u001b[1;32m      2\u001b[0m \u001b[0mb\u001b[0m\u001b[0;34m=\u001b[0m\u001b[0ma\u001b[0m\u001b[0;34m.\u001b[0m\u001b[0msplit\u001b[0m\u001b[0;34m(\u001b[0m\u001b[0;34m)\u001b[0m\u001b[0;34m\u001b[0m\u001b[0;34m\u001b[0m\u001b[0m\n\u001b[0;32m----> 3\u001b[0;31m \u001b[0;32mif\u001b[0m \u001b[0mb\u001b[0m\u001b[0;34m[\u001b[0m\u001b[0;36m1\u001b[0m\u001b[0;34m]\u001b[0m\u001b[0;34m==\u001b[0m\u001b[0;34m'+'\u001b[0m\u001b[0;34m:\u001b[0m\u001b[0;34m\u001b[0m\u001b[0;34m\u001b[0m\u001b[0m\n\u001b[0m\u001b[1;32m      4\u001b[0m   \u001b[0mprint\u001b[0m\u001b[0;34m(\u001b[0m\u001b[0mint\u001b[0m\u001b[0;34m(\u001b[0m\u001b[0mb\u001b[0m\u001b[0;34m[\u001b[0m\u001b[0;36m0\u001b[0m\u001b[0;34m]\u001b[0m\u001b[0;34m)\u001b[0m\u001b[0;34m+\u001b[0m\u001b[0mint\u001b[0m\u001b[0;34m(\u001b[0m\u001b[0mb\u001b[0m\u001b[0;34m[\u001b[0m\u001b[0;36m2\u001b[0m\u001b[0;34m]\u001b[0m\u001b[0;34m)\u001b[0m\u001b[0;34m)\u001b[0m\u001b[0;34m\u001b[0m\u001b[0;34m\u001b[0m\u001b[0m\n\u001b[1;32m      5\u001b[0m \u001b[0;32melif\u001b[0m \u001b[0mb\u001b[0m\u001b[0;34m[\u001b[0m\u001b[0;36m1\u001b[0m\u001b[0;34m]\u001b[0m\u001b[0;34m==\u001b[0m \u001b[0;34m\"-\"\u001b[0m\u001b[0;34m:\u001b[0m\u001b[0;34m\u001b[0m\u001b[0;34m\u001b[0m\u001b[0m\n",
            "\u001b[0;31mIndexError\u001b[0m: list index out of range"
          ]
        }
      ]
    },
    {
      "cell_type": "markdown",
      "source": [
        "Printing all even numbers, odd numbers, count of even numbers, count of odd numbers\n",
        "within a given range.\n",
        "o Compute the factorial of a given number. b) Compute GCD of two given\n",
        "numbers. c) Generate Fibonacci series up to N numbers."
      ],
      "metadata": {
        "id": "DxMkRiYmnsMa"
      }
    },
    {
      "cell_type": "code",
      "source": [
        "a=input()\n",
        "b=a.split()\n",
        "b[0]=int(b[0])\n",
        "b[1]=int(b[1])\n",
        "m=0\n",
        "print(\"Even numbers: \")\n",
        "for i in range(b[0],b[1]):\n",
        "  if i%2==0:\n",
        "    print(i)\n",
        "    m=m+1\n",
        "print(\"No. of even numbers \",m)\n",
        "m=0\n",
        "print(\"Odd numbers: \")\n",
        "for i in range(b[0],b[1]):\n",
        "  if i%2!=0:\n",
        "    print(i)\n",
        "    m=m+1\n",
        "print(\"No. of odd numbers \",m)\n",
        "\n",
        "\n",
        "\n"
      ],
      "metadata": {
        "colab": {
          "base_uri": "https://localhost:8080/"
        },
        "id": "MpZznwzcnt0z",
        "outputId": "e5aed948-0727-469e-e865-5c613038282b"
      },
      "execution_count": null,
      "outputs": [
        {
          "output_type": "stream",
          "name": "stdout",
          "text": [
            "32 56\n",
            "Even numbers: \n",
            "32\n",
            "34\n",
            "36\n",
            "38\n",
            "40\n",
            "42\n",
            "44\n",
            "46\n",
            "48\n",
            "50\n",
            "52\n",
            "54\n",
            "No. of even numbers  12\n",
            "Odd numbers: \n",
            "33\n",
            "35\n",
            "37\n",
            "39\n",
            "41\n",
            "43\n",
            "45\n",
            "47\n",
            "49\n",
            "51\n",
            "53\n",
            "55\n",
            "No. of odd numbers  12\n"
          ]
        }
      ]
    },
    {
      "cell_type": "code",
      "source": [
        "def isPalindrome(s):\n",
        "    return s == s[::-1]\n",
        "s = \"malayalam\"\n",
        "ans = isPalindrome(s)\n",
        " \n",
        "if ans:\n",
        "    print(\"Yes\")\n",
        "else:\n",
        "    print(\"No\")"
      ],
      "metadata": {
        "id": "1zXxZ8Jq1bLS"
      },
      "execution_count": null,
      "outputs": []
    },
    {
      "cell_type": "code",
      "source": [
        "\n",
        "num = int(input(\"Enter a number: \"))\n",
        "\n",
        "\n",
        "sum = 0\n",
        "\n",
        "\n",
        "temp = num\n",
        "while temp > 0:\n",
        "   digit = temp % 10\n",
        "   sum += digit ** 3\n",
        "   temp //= 10\n",
        "\n",
        "\n",
        "if num == sum:\n",
        "   print(num,\"is an Armstrong number\")\n",
        "else:\n",
        "   print(num,\"is not an Armstrong number\")"
      ],
      "metadata": {
        "id": "9X26vX5S2DB3"
      },
      "execution_count": null,
      "outputs": []
    },
    {
      "cell_type": "code",
      "source": [
        "Number = int(input(\" Please Enter any Number: \"))\n",
        "Sum = 0\n",
        "for i in range(1, Number):\n",
        "    if(Number % i == 0):\n",
        "        Sum = Sum + i\n",
        "if (Sum == Number):\n",
        "    print(\" %d is a Perfect Number\" %Number)\n",
        "else:\n",
        "    print(\" %d is not a Perfect Number\" %Number)"
      ],
      "metadata": {
        "id": "3okZn8ZE2ioQ"
      },
      "execution_count": null,
      "outputs": []
    },
    {
      "cell_type": "code",
      "source": [
        "def compound_interest(principle, rate, time):\n",
        " \n",
        "    # Calculates compound interest\n",
        "    A = principle * (pow((1 + rate / 100), time))\n",
        "    CI= A - principle\n",
        "    print(\"Compound interest is\", CI)\n",
        " \n",
        " \n",
        "compound_interest(10000, 5, 2)\n",
        " "
      ],
      "metadata": {
        "id": "EA1bdBL_26Ug"
      },
      "execution_count": null,
      "outputs": []
    }
  ]
}