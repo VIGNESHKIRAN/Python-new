{
  "nbformat": 4,
  "nbformat_minor": 0,
  "metadata": {
    "colab": {
      "name": "module 2",
      "provenance": [],
      "authorship_tag": "ABX9TyP/2qzWvx5Y98/rECi2R2zM",
      "include_colab_link": true
    },
    "kernelspec": {
      "name": "python3",
      "display_name": "Python 3"
    },
    "language_info": {
      "name": "python"
    }
  },
  "cells": [
    {
      "cell_type": "markdown",
      "metadata": {
        "id": "view-in-github",
        "colab_type": "text"
      },
      "source": [
        "<a href=\"https://colab.research.google.com/github/VIGNESHKIRAN/Python-new/blob/Module-2/module_2.ipynb\" target=\"_parent\"><img src=\"https://colab.research.google.com/assets/colab-badge.svg\" alt=\"Open In Colab\"/></a>"
      ]
    },
    {
      "cell_type": "markdown",
      "source": [
        "Creating a function which accepts two inputs from the user and displays it in c^nr"
      ],
      "metadata": {
        "id": "6LT3BYhKofzs"
      }
    },
    {
      "cell_type": "code",
      "execution_count": null,
      "metadata": {
        "colab": {
          "base_uri": "https://localhost:8080/"
        },
        "id": "EAGvT-SuochL",
        "outputId": "3f8b992f-740b-4139-846a-d58439a7b555"
      },
      "outputs": [
        {
          "output_type": "stream",
          "name": "stdout",
          "text": [
            "10\n"
          ]
        }
      ],
      "source": [
        "def nCr(n, r):\n",
        "    return (fact(n) / (fact(r)\n",
        "                       * fact(n - r)))\n",
        "def fact(n):\n",
        "    res = 1\n",
        "\n",
        "    for i in range(2, n + 1):\n",
        "        res = res * i\n",
        "\n",
        "    return res\n",
        "n = 5\n",
        "r = 2\n",
        "print(int(nCr(n, r)))"
      ]
    },
    {
      "cell_type": "markdown",
      "source": [
        "Recursive function to compute GCD of 2 numbers"
      ],
      "metadata": {
        "id": "nn_Tt3fVq-aW"
      }
    },
    {
      "cell_type": "code",
      "source": [
        "def gcd(a,b):\n",
        "    if(b==0):\n",
        "        return a\n",
        "    else:\n",
        "        return gcd(b,a%b)\n",
        "    \n",
        "a=int(input(\"Enter first number:\"))\n",
        "b=int(input(\"Enter second number:\"))\n",
        "GCD=gcd(a,b)\n",
        "print(\"GCD is: \")\n",
        "print(GCD)"
      ],
      "metadata": {
        "id": "Ibj5m5iNq_PE"
      },
      "execution_count": null,
      "outputs": []
    },
    {
      "cell_type": "markdown",
      "source": [
        "Recursive function to find product of two numbers"
      ],
      "metadata": {
        "id": "Np2kDzcArd92"
      }
    },
    {
      "cell_type": "code",
      "source": [
        "def product(a,b):\n",
        "    if(a<b):\n",
        "        return product(b,a)\n",
        "    elif(b!=0):\n",
        "        return(a+product(a,b-1))\n",
        "    else:\n",
        "        return 0\n",
        "a=int(input(\"Enter first number: \"))\n",
        "b=int(input(\"Enter second number: \"))\n",
        "print(\"Product is: \",product(a,b))"
      ],
      "metadata": {
        "id": "Yw9RGJMArf5l"
      },
      "execution_count": null,
      "outputs": []
    },
    {
      "cell_type": "markdown",
      "source": [
        "Recursive function to generate Fibonacci series"
      ],
      "metadata": {
        "id": "4kVof6Qyry4u"
      }
    },
    {
      "cell_type": "code",
      "source": [
        "def recur_fibo(n):\n",
        "   if n <= 1:\n",
        "       return n\n",
        "   else:\n",
        "       return(recur_fibo(n-1) + recur_fibo(n-2))\n",
        "\n",
        "nterms = 10\n"
      ],
      "metadata": {
        "id": "E9luROHWrztT"
      },
      "execution_count": null,
      "outputs": []
    },
    {
      "cell_type": "markdown",
      "source": [
        "check if the number of terms is valid"
      ],
      "metadata": {
        "id": "YSsVCzbbr2v9"
      }
    },
    {
      "cell_type": "code",
      "source": [
        "if nterms <= 0:\n",
        "   print(\"Plese enter a positive integer\")\n",
        "else:\n",
        "   print(\"Fibonacci sequence:\")\n",
        "   for i in range(nterms):\n",
        "       print(recur_fibo(i))\n",
        "\n",
        "#Program to get the difference between the two lists.\n",
        "list1 = [1, 3, 5, 7, 9]\n",
        "list2=[1, 2, 4, 6, 7, 8]\n",
        "diff_list1_list2 = list(set(list1) - set(list2))\n",
        "diff_list2_list1 = list(set(list2) - set(list1))\n",
        "total_diff = diff_list1_list2 + diff_list2_list1\n",
        "print(total_diff)"
      ],
      "metadata": {
        "id": "2N1wps69sCcD"
      },
      "execution_count": null,
      "outputs": []
    },
    {
      "cell_type": "markdown",
      "source": [
        "Program to find the second smallest number and second largest number in a list"
      ],
      "metadata": {
        "id": "27Oc78LvsGV-"
      }
    },
    {
      "cell_type": "code",
      "source": [
        "def find_len(list1):\n",
        "    length = len(list1)\n",
        "    list1.sort()\n",
        "    print(\"Largest element is:\", list1[length - 1])\n",
        "    print(\"Smallest element is:\", list1[0])\n",
        "    print(\"Second Largest element is:\", list1[length - 2])\n",
        "    print(\"Second Smallest element is:\", list1[1])\n",
        "a=int(input(\"Enter the no. of terms in list: \"))\n",
        "list1 = [12, 45, 2, 41, 31, 10, 8, 6, 4]\n",
        "Largest = find_len(list1)\n"
      ],
      "metadata": {
        "id": "cfcq4KntsNoV"
      },
      "execution_count": null,
      "outputs": []
    },
    {
      "cell_type": "markdown",
      "source": [
        "python function that accepts a string and calculates the number of uppercase letters and lowercase letters."
      ],
      "metadata": {
        "id": "1vG58rq8sQy-"
      }
    },
    {
      "cell_type": "code",
      "source": [
        "def string_test(s):\n",
        "    d={\"UPPER_CASE\":0, \"LOWER_CASE\":0}\n",
        "    for c in s:\n",
        "        if c.isupper():\n",
        "           d[\"UPPER_CASE\"]+=1\n",
        "        elif c.islower():\n",
        "           d[\"LOWER_CASE\"]+=1\n",
        "        else:\n",
        "           pass\n",
        "    print (\"Original String : \", s)\n",
        "    print (\"No. of Upper case characters : \", d[\"UPPER_CASE\"])\n",
        "    print (\"No. of Lower case Characters : \", d[\"LOWER_CASE\"])\n",
        "\n",
        "string_test('The quick Brown Fox')\n"
      ],
      "metadata": {
        "id": "ULmjtny5sTbm"
      },
      "execution_count": null,
      "outputs": []
    },
    {
      "cell_type": "markdown",
      "source": [
        "Program to remove a key from a dictionary"
      ],
      "metadata": {
        "id": "QE3kua3wsbH-"
      }
    },
    {
      "cell_type": "code",
      "source": [
        "myDict = {'a':1,'b':2,'c':3,'d':4}\n",
        "print(myDict)\n",
        "if 'a' in myDict:\n",
        "    del myDict['a']\n",
        "print(myDict)\n"
      ],
      "metadata": {
        "id": "FMw9l02asdjO"
      },
      "execution_count": null,
      "outputs": []
    },
    {
      "cell_type": "markdown",
      "source": [
        "Program to get the maximum and minimum value in a dictionary"
      ],
      "metadata": {
        "id": "Y5wVFqCqsgHu"
      }
    },
    {
      "cell_type": "code",
      "source": [
        "my_dict = {'x':500, 'y':5874, 'z': 560}\n",
        "key_max = max(my_dict.keys(), key=(lambda k: my_dict[k]))\n",
        "key_min = min(my_dict.keys(), key=(lambda k: my_dict[k]))\n",
        "print('Maximum Value: ',my_dict[key_max])\n",
        "print('Minimum Value: ',my_dict[key_min])\n"
      ],
      "metadata": {
        "id": "A95zOgzisiYO"
      },
      "execution_count": null,
      "outputs": []
    },
    {
      "cell_type": "markdown",
      "source": [
        "Program to print a specified list after removing the 0th, 4th and 5th elements.\n",
        "Sample List : ['Red', 'Green', 'White', 'Black', 'Pink', 'Yellow']\n",
        "Expected Output : ['Green', 'White', 'Black']"
      ],
      "metadata": {
        "id": "CiNDmgOKyDgx"
      }
    },
    {
      "cell_type": "code",
      "source": [
        "a = [\"red\",'green','white','black','pink','yellow']\n",
        "del a[5]\n",
        "del a[4]\n",
        "del a[0]\n",
        "print(a)\n"
      ],
      "metadata": {
        "colab": {
          "base_uri": "https://localhost:8080/"
        },
        "id": "slB9wLuSxOVS",
        "outputId": "7c627481-5031-42f9-b8bd-fd1802507667"
      },
      "execution_count": null,
      "outputs": [
        {
          "output_type": "stream",
          "name": "stdout",
          "text": [
            "['green', 'white', 'black']\n"
          ]
        }
      ]
    },
    {
      "cell_type": "markdown",
      "source": [
        ""
      ],
      "metadata": {
        "id": "NYCDCPWWzhqs"
      }
    }
  ]
}