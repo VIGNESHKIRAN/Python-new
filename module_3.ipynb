{
  "nbformat": 4,
  "nbformat_minor": 0,
  "metadata": {
    "colab": {
      "name": "module 3.ipynb",
      "provenance": [],
      "authorship_tag": "ABX9TyPI/PBHGkgApNt/d06mDyBR",
      "include_colab_link": true
    },
    "kernelspec": {
      "name": "python3",
      "display_name": "Python 3"
    },
    "language_info": {
      "name": "python"
    }
  },
  "cells": [
    {
      "cell_type": "markdown",
      "metadata": {
        "id": "view-in-github",
        "colab_type": "text"
      },
      "source": [
        "<a href=\"https://colab.research.google.com/github/VIGNESHKIRAN/Python-new/blob/Module-3/module_3.ipynb\" target=\"_parent\"><img src=\"https://colab.research.google.com/assets/colab-badge.svg\" alt=\"Open In Colab\"/></a>"
      ]
    },
    {
      "cell_type": "markdown",
      "source": [
        "##read an entire text file\n"
      ],
      "metadata": {
        "id": "-IMLPdKNX6Hs"
      }
    },
    {
      "cell_type": "code",
      "source": [
        "f = read(\"demofile.txt\",\"r\")\n",
        "print(f.read())\n"
      ],
      "metadata": {
        "id": "PP58s6czX_fz"
      },
      "execution_count": null,
      "outputs": []
    },
    {
      "cell_type": "markdown",
      "source": [
        "##read the first n lines of a file"
      ],
      "metadata": {
        "id": "bo62K8K6Y5as"
      }
    },
    {
      "cell_type": "code",
      "source": [
        "f = open(\"python.txt\",\"r\")\n",
        "u=int(input(\"enter any file: \"))\n",
        "for i in range(0,u):\n",
        "  print(f.readline())\n"
      ],
      "metadata": {
        "colab": {
          "base_uri": "https://localhost:8080/",
          "height": 218
        },
        "id": "pam10_1CayVS",
        "outputId": "451e2028-dc59-49f4-a016-3e98292d99a2"
      },
      "execution_count": null,
      "outputs": [
        {
          "output_type": "error",
          "ename": "FileNotFoundError",
          "evalue": "ignored",
          "traceback": [
            "\u001b[0;31m---------------------------------------------------------------------------\u001b[0m",
            "\u001b[0;31mFileNotFoundError\u001b[0m                         Traceback (most recent call last)",
            "\u001b[0;32m<ipython-input-3-778153d22215>\u001b[0m in \u001b[0;36m<module>\u001b[0;34m()\u001b[0m\n\u001b[0;32m----> 1\u001b[0;31m \u001b[0mf\u001b[0m \u001b[0;34m=\u001b[0m \u001b[0mopen\u001b[0m\u001b[0;34m(\u001b[0m\u001b[0;34m\"python.txt\"\u001b[0m\u001b[0;34m,\u001b[0m\u001b[0;34m\"r\"\u001b[0m\u001b[0;34m)\u001b[0m\u001b[0;34m\u001b[0m\u001b[0;34m\u001b[0m\u001b[0m\n\u001b[0m\u001b[1;32m      2\u001b[0m \u001b[0mu\u001b[0m\u001b[0;34m=\u001b[0m\u001b[0mint\u001b[0m\u001b[0;34m(\u001b[0m\u001b[0minput\u001b[0m\u001b[0;34m(\u001b[0m\u001b[0;34m\"enter any file: \"\u001b[0m\u001b[0;34m)\u001b[0m\u001b[0;34m)\u001b[0m\u001b[0;34m\u001b[0m\u001b[0;34m\u001b[0m\u001b[0m\n\u001b[1;32m      3\u001b[0m \u001b[0;32mfor\u001b[0m \u001b[0mi\u001b[0m \u001b[0;32min\u001b[0m \u001b[0mrange\u001b[0m\u001b[0;34m(\u001b[0m\u001b[0;36m0\u001b[0m\u001b[0;34m,\u001b[0m\u001b[0mb\u001b[0m\u001b[0;34m)\u001b[0m\u001b[0;34m:\u001b[0m\u001b[0;34m\u001b[0m\u001b[0;34m\u001b[0m\u001b[0m\n\u001b[1;32m      4\u001b[0m   \u001b[0mprint\u001b[0m\u001b[0;34m(\u001b[0m\u001b[0mf\u001b[0m\u001b[0;34m.\u001b[0m\u001b[0mreadline\u001b[0m\u001b[0;34m(\u001b[0m\u001b[0;34m)\u001b[0m\u001b[0;34m)\u001b[0m\u001b[0;34m\u001b[0m\u001b[0;34m\u001b[0m\u001b[0m\n",
            "\u001b[0;31mFileNotFoundError\u001b[0m: [Errno 2] No such file or directory: 'python.txt'"
          ]
        }
      ]
    },
    {
      "cell_type": "markdown",
      "source": [
        "##append text to a file and display the text"
      ],
      "metadata": {
        "id": "z3jE3QO7bCht"
      }
    },
    {
      "cell_type": "code",
      "source": [
        "a = input(\"enter the file name: \")\n",
        "b=open(\"python.txt\",\"a\")\n",
        "a.write(\"\\n\")\n",
        "a.close()\n",
        "a=open(\"pythion.txt\",\"r\")\n",
        "print(a.read())\n"
      ],
      "metadata": {
        "id": "cYllIEYrib0g"
      },
      "execution_count": null,
      "outputs": []
    },
    {
      "cell_type": "markdown",
      "source": [
        "##Read numbers from a file and write even and odd numbers to separate files."
      ],
      "metadata": {
        "id": "Nf5I6kWIjA2L"
      }
    },
    {
      "cell_type": "code",
      "source": [
        "a = input(\"enter your file name: \")\n"
      ],
      "metadata": {
        "id": "moTSyRlTjF9s"
      },
      "execution_count": null,
      "outputs": []
    },
    {
      "cell_type": "markdown",
      "source": [
        ""
      ],
      "metadata": {
        "id": "91tw5XVCvIFm"
      }
    },
    {
      "cell_type": "code",
      "source": [
        ""
      ],
      "metadata": {
        "id": "b-iUuVeYisrh"
      },
      "execution_count": null,
      "outputs": []
    }
  ]
}